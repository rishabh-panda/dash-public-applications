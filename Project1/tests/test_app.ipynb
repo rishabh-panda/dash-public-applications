{
 "cells": [
  {
   "cell_type": "code",
   "execution_count": 3,
   "metadata": {},
   "outputs": [
    {
     "name": "stdout",
     "output_type": "stream",
     "text": [
      "Dataset download failed or zip file not found.\n",
      "cleaned_retail_shop_dataset.csv not found. Please check the extraction process.\n"
     ]
    }
   ],
   "source": [
    "import os\n",
    "import pandas as pd\n",
    "from zipfile import ZipFile\n",
    "\n",
    "# Define the Kaggle dataset URL and the dataset file name\n",
    "dataset_url = \"dinachanthan/cleaned-retail-shop-dataset\"\n",
    "dataset_file = \"cleaned_retail_shop_dataset.csv\"\n",
    "\n",
    "# Directory to save the downloaded dataset\n",
    "download_dir = \"kaggle_datasets\"\n",
    "\n",
    "# Create the directory if it does not exist\n",
    "if not os.path.exists(download_dir):\n",
    "    os.makedirs(download_dir)\n",
    "\n",
    "# Change the current working directory to the download directory\n",
    "os.chdir(download_dir)\n",
    "\n",
    "# Download the dataset using Kaggle API\n",
    "os.system(f\"kaggle datasets download -d {dataset_url}\")\n",
    "\n",
    "# Check if the zip file is downloaded\n",
    "zip_file_name = f\"{dataset_url.split('/')[-1]}.zip\"\n",
    "if os.path.exists(zip_file_name):\n",
    "    # Extract the dataset\n",
    "    with ZipFile(zip_file_name, 'r') as zip_ref:\n",
    "        zip_ref.extractall()\n",
    "    print(\"Dataset extracted successfully.\")\n",
    "else:\n",
    "    print(\"Dataset download failed or zip file not found.\")\n",
    "\n",
    "# Check if the dataset file exists\n",
    "if os.path.exists(dataset_file):\n",
    "    # Load the dataset into a pandas DataFrame\n",
    "    df = pd.read_csv(dataset_file)\n",
    "    # Print the first few rows of the DataFrame\n",
    "    print(df.head())\n",
    "else:\n",
    "    print(f\"{dataset_file} not found. Please check the extraction process.\")"
   ]
  }
 ],
 "metadata": {
  "kernelspec": {
   "display_name": "Python 3",
   "language": "python",
   "name": "python3"
  },
  "language_info": {
   "codemirror_mode": {
    "name": "ipython",
    "version": 3
   },
   "file_extension": ".py",
   "mimetype": "text/x-python",
   "name": "python",
   "nbconvert_exporter": "python",
   "pygments_lexer": "ipython3",
   "version": "3.8.0"
  }
 },
 "nbformat": 4,
 "nbformat_minor": 2
}
